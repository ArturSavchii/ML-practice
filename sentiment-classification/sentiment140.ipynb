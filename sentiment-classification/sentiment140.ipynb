{
 "cells": [
  {
   "cell_type": "code",
   "execution_count": 28,
   "id": "d8f7af49-78e7-480f-a1fe-3286cfa47b04",
   "metadata": {},
   "outputs": [],
   "source": [
    "import csv\n",
    "import random\n",
    "import pickle\n",
    "import numpy as np\n",
    "import tensorflow as tf\n",
    "from tensorflow.keras.preprocessing.text import Tokenizer\n",
    "from tensorflow.keras.preprocessing.sequence import pad_sequences\n",
    "import matplotlib.pyplot as plt\n",
    "from scipy.stats import linregress"
   ]
  },
  {
   "cell_type": "code",
   "execution_count": 29,
   "id": "87cbd15a-ca41-4bc8-9bd0-1dacd368d31e",
   "metadata": {},
   "outputs": [],
   "source": [
    "EMBEDDING_DIM = 100 #will be used in the embedding layer of the model\n",
    "MAXLEN = 16 #maximum length of all sequences\n",
    "TRUNCATING = 'post' #truncate after each sequence\n",
    "PADDING = 'post' #post-padding\n",
    "OOV_TOKEN = \"<OOV>\" #token to replace out-of-vocabulary words during text_to_sequence calls\n",
    "MAX_EXAMPLES = 160000 #max number of examples to use - 160000 (10% of the original number of examples)\n",
    "TRAINING_SPLIT = 0.9"
   ]
  },
  {
   "cell_type": "code",
   "execution_count": 30,
   "id": "b7dbf5a7-e5b3-4f3b-9de8-80e44784f029",
   "metadata": {},
   "outputs": [
    {
     "name": "stdout",
     "output_type": "stream",
     "text": [
      "First two data points look like this:\n",
      "\n",
      "\"0\",\"1467810369\",\"Mon Apr 06 22:19:45 PDT 2009\",\"NO_QUERY\",\"_TheSpecialOne_\",\"@switchfoot http://twitpic.com/2y1zl - Awww, that's a bummer.  You shoulda got David Carr of Third Day to do it. ;D\"\n",
      "\n",
      "\n",
      "\"0\",\"1467810672\",\"Mon Apr 06 22:19:49 PDT 2009\",\"NO_QUERY\",\"scotthamilton\",\"is upset that he can't update his Facebook by texting it... and might cry as a result  School today also. Blah!\"\n",
      "\n"
     ]
    }
   ],
   "source": [
    "SENTIMENT_CSV = \"./sentiment140/train.csv\"\n",
    "\n",
    "with open(SENTIMENT_CSV, 'r') as csvfile:\n",
    "    print(f\"First two data points look like this:\\n\\n{csvfile.readline()}\\n\\n{csvfile.readline()}\")"
   ]
  },
  {
   "cell_type": "code",
   "execution_count": 31,
   "id": "c7512b71-c652-46ae-8a42-efebe1915ce1",
   "metadata": {},
   "outputs": [],
   "source": [
    "#parsing the raw data\n",
    "def parse_data_from_file(filename):\n",
    "    \n",
    "    sentences = []\n",
    "    labels = []\n",
    "    \n",
    "    with open(filename, 'r') as csvfile:\n",
    "        reader = csv.reader(csvfile, delimiter=',')\n",
    "        for row in reader:\n",
    "            labels.append(0 if row[0] == 0 else 1)\n",
    "            sentences.append(row[5])\n",
    "        \n",
    "    return sentences, labels"
   ]
  },
  {
   "cell_type": "code",
   "execution_count": 32,
   "id": "17406acf-2a1b-482d-854f-c2fbfa434eda",
   "metadata": {},
   "outputs": [],
   "source": [
    "# 10% of the original data will be used\n",
    "sentences_and_labels = list(zip(sentences, labels))\n",
    "\n",
    "# random sampling\n",
    "random.seed(42)\n",
    "sentences_and_labels = random.sample(sentences_and_labels, MAX_EXAMPLES)\n",
    "\n",
    "sentences, labels = zip(*sentences_and_labels)"
   ]
  },
  {
   "cell_type": "code",
   "execution_count": 33,
   "id": "3f8c60cc-166c-4a01-9159-c3b54da13da9",
   "metadata": {},
   "outputs": [],
   "source": [
    "#training - validation split\n",
    "def train_val_split(sentences, labels, training_split):\n",
    "\n",
    "    train_size = int(training_split * len(sentences))\n",
    "\n",
    "    train_sentences = sentences[:train_size]\n",
    "    train_labels = labels[:train_size]\n",
    "\n",
    "    validation_sentences = sentences[train_size:]\n",
    "    validation_labels = labels[train_size:]\n",
    "    \n",
    "    return train_sentences, validation_sentences, train_labels, validation_labels"
   ]
  },
  {
   "cell_type": "code",
   "execution_count": 34,
   "id": "c9dc98d5-983c-452b-82a4-9ca826be448f",
   "metadata": {},
   "outputs": [
    {
     "name": "stdout",
     "output_type": "stream",
     "text": [
      "There are 144000 sentences for training.\n",
      "\n",
      "There are 144000 labels for training.\n",
      "\n",
      "There are 16000 sentences for validation.\n",
      "\n",
      "There are 16000 labels for validation.\n"
     ]
    }
   ],
   "source": [
    "train_sentences, val_sentences, train_labels, val_labels = train_val_split(sentences, labels, TRAINING_SPLIT)\n",
    "\n",
    "print(f\"There are {len(train_sentences)} sentences for training.\\n\")\n",
    "print(f\"There are {len(train_labels)} labels for training.\\n\")\n",
    "print(f\"There are {len(val_sentences)} sentences for validation.\\n\")\n",
    "print(f\"There are {len(val_labels)} labels for validation.\")"
   ]
  },
  {
   "cell_type": "code",
   "execution_count": 35,
   "id": "37246a12-37ce-4f76-b3b9-00eaecf2a5e7",
   "metadata": {},
   "outputs": [],
   "source": [
    "#tokenization\n",
    "def fit_tokenizer(train_sentences, oov_token):\n",
    "    \n",
    "    tokenizer = Tokenizer(oov_token = oov_token)\n",
    "    \n",
    "    tokenizer.fit_on_texts(train_sentences)\n",
    "    \n",
    "    return tokenizer"
   ]
  },
  {
   "cell_type": "code",
   "execution_count": 36,
   "id": "81ef000d-d678-427f-86bd-facce7bac48d",
   "metadata": {},
   "outputs": [],
   "source": [
    "tokenizer = fit_tokenizer(train_sentences, OOV_TOKEN)\n",
    "\n",
    "word_index = tokenizer.word_index\n",
    "VOCAB_SIZE = len(word_index)"
   ]
  },
  {
   "cell_type": "code",
   "execution_count": 37,
   "id": "aca3da79-6dd6-456f-a138-ed92a97d720d",
   "metadata": {},
   "outputs": [],
   "source": [
    "#truncating and padding\n",
    "def seq_pad_and_trunc(sentences, tokenizer, padding, truncating, maxlen):\n",
    "    \n",
    "    sequences = tokenizer.texts_to_sequences(sentences)\n",
    "    \n",
    "    pad_trunc_sequences = pad_sequences(sequences, maxlen = maxlen, padding = padding, truncating=truncating)\n",
    "    \n",
    "    return pad_trunc_sequences"
   ]
  },
  {
   "cell_type": "code",
   "execution_count": 38,
   "id": "d88e0e25-7ddc-457f-9986-83d705f58519",
   "metadata": {},
   "outputs": [],
   "source": [
    "train_pad_trunc_seq = seq_pad_and_trunc(train_sentences, tokenizer, PADDING, TRUNCATING, MAXLEN)\n",
    "val_pad_trunc_seq = seq_pad_and_trunc(val_sentences, tokenizer, PADDING, TRUNCATING, MAXLEN)"
   ]
  },
  {
   "cell_type": "code",
   "execution_count": 39,
   "id": "bfd73841-f19b-4013-8782-9035a8bb1342",
   "metadata": {},
   "outputs": [],
   "source": [
    "train_labels = np.array(train_labels)\n",
    "val_labels = np.array(val_labels)"
   ]
  },
  {
   "cell_type": "markdown",
   "id": "db9926d5-797a-4b19-9585-e9e9851cab8a",
   "metadata": {},
   "source": [
    "## Using pre-defined Embeddings\n",
    "100 dimension version of [GloVe](https://nlp.stanford.edu/projects/glove/) from Stanford will be used."
   ]
  },
  {
   "cell_type": "code",
   "execution_count": 41,
   "id": "ab2e412c-c39e-4063-811f-8f888e369a8e",
   "metadata": {},
   "outputs": [],
   "source": [
    "GLOVE_FILE = './embeddings/glove.6B.100d.txt'\n",
    "\n",
    "GLOVE_EMBEDDINGS = {}\n",
    "\n",
    "with open(GLOVE_FILE, encoding=\"utf8\") as f:\n",
    "    for line in f:\n",
    "        values = line.split()\n",
    "        word = values[0]\n",
    "        coefs = np.asarray(values[1:], dtype='float32')\n",
    "        GLOVE_EMBEDDINGS[word] = coefs"
   ]
  },
  {
   "cell_type": "code",
   "execution_count": 44,
   "id": "3c58194b-93af-4ddf-94a5-023795bc5626",
   "metadata": {},
   "outputs": [
    {
     "name": "stdout",
     "output_type": "stream",
     "text": [
      "[ 0.30817    0.30938    0.52803   -0.92543   -0.73671    0.63475\n",
      "  0.44197    0.10262   -0.09142   -0.56607   -0.5327     0.2013\n",
      "  0.7704    -0.13983    0.13727    1.1128     0.89301   -0.17869\n",
      " -0.0019722  0.57289    0.59479    0.50428   -0.28991   -1.3491\n",
      "  0.42756    1.2748    -1.1613    -0.41084    0.042804   0.54866\n",
      "  0.18897    0.3759     0.58035    0.66975    0.81156    0.93864\n",
      " -0.51005   -0.070079   0.82819   -0.35346    0.21086   -0.24412\n",
      " -0.16554   -0.78358   -0.48482    0.38968   -0.86356   -0.016391\n",
      "  0.31984   -0.49246   -0.069363   0.018869  -0.098286   1.3126\n",
      " -0.12116   -1.2399    -0.091429   0.35294    0.64645    0.089642\n",
      "  0.70294    1.1244     0.38639    0.52084    0.98787    0.79952\n",
      " -0.34625    0.14095    0.80167    0.20987   -0.86007   -0.15308\n",
      "  0.074523   0.40816    0.019208   0.51587   -0.34428   -0.24525\n",
      " -0.77984    0.27425    0.22418    0.20164    0.017431  -0.014697\n",
      " -1.0235    -0.39695   -0.0056188  0.30569    0.31748    0.021404\n",
      "  0.11837   -0.11319    0.42456    0.53405   -0.16717   -0.27185\n",
      " -0.6255     0.12883    0.62529   -0.52086  ]\n"
     ]
    }
   ],
   "source": [
    "#testing for 'dog'\n",
    "test_word = 'dog'\n",
    "\n",
    "test_vector = GLOVE_EMBEDDINGS[test_word]\n",
    "\n",
    "print(test_vector)"
   ]
  },
  {
   "cell_type": "code",
   "execution_count": 45,
   "id": "74f91ea9-d975-4745-b869-b4979b781a7e",
   "metadata": {},
   "outputs": [],
   "source": [
    "EMBEDDINGS_MATRIX = np.zeros((VOCAB_SIZE+1, EMBEDDING_DIM))\n",
    "\n",
    "# iterating all of the words in the vocabulary and if the vector representation for \n",
    "# each word exists within GloVe's representations, save it in the EMBEDDINGS_MATRIX array\n",
    "for word, i in word_index.items():\n",
    "    embedding_vector = GLOVE_EMBEDDINGS.get(word)\n",
    "    if embedding_vector is not None:\n",
    "        EMBEDDINGS_MATRIX[i] = embedding_vector"
   ]
  },
  {
   "cell_type": "markdown",
   "id": "6e2045a3-bd06-4d58-a7aa-81b7443b65a8",
   "metadata": {},
   "source": [
    "## Model"
   ]
  },
  {
   "cell_type": "code",
   "execution_count": 46,
   "id": "41aaca93-7a2d-41dc-b4a7-ef7bcce18f51",
   "metadata": {},
   "outputs": [],
   "source": [
    "def create_model(vocab_size, embedding_dim, maxlen, embeddings_matrix):\n",
    "    \n",
    "    model = tf.keras.Sequential([ \n",
    "        tf.keras.layers.Embedding(vocab_size+1, embedding_dim, input_length=maxlen, weights=[embeddings_matrix], trainable=False),\n",
    "        tf.keras.layers.Bidirectional(tf.keras.layers.LSTM(64, return_sequences = True)),\n",
    "        tf.keras.layers.Bidirectional(tf.keras.layers.LSTM(32)),\n",
    "        tf.keras.layers.Dropout(0.2),\n",
    "        tf.keras.layers.Dense(64, activation = 'relu'),\n",
    "        tf.keras.layers.Dropout(0.2),\n",
    "        tf.keras.layers.Dense(1, activation = 'sigmoid')\n",
    "    ])\n",
    "    \n",
    "    model.compile(loss='binary_crossentropy',\n",
    "                  optimizer=tf.keras.optimizers.Adam(lr = 0.0001),\n",
    "                  metrics=['accuracy']) \n",
    "\n",
    "    return model"
   ]
  },
  {
   "cell_type": "code",
   "execution_count": 47,
   "id": "4044cbd0-20e5-4ff2-9cac-aac72a52d400",
   "metadata": {},
   "outputs": [
    {
     "name": "stderr",
     "output_type": "stream",
     "text": [
      "WARNING:absl:`lr` is deprecated in Keras optimizer, please use `learning_rate` or use the legacy optimizer, e.g.,tf.keras.optimizers.legacy.Adam.\n"
     ]
    },
    {
     "name": "stdout",
     "output_type": "stream",
     "text": [
      "Epoch 1/20\n",
      "4500/4500 [==============================] - 172s 34ms/step - loss: 0.0010 - accuracy: 0.9999 - val_loss: 1.1299e-08 - val_accuracy: 1.0000\n",
      "Epoch 2/20\n",
      "4500/4500 [==============================] - 145s 32ms/step - loss: 1.1622e-07 - accuracy: 1.0000 - val_loss: 2.8731e-10 - val_accuracy: 1.0000\n",
      "Epoch 3/20\n",
      "4500/4500 [==============================] - 152s 34ms/step - loss: 1.5164e-08 - accuracy: 1.0000 - val_loss: 7.7313e-12 - val_accuracy: 1.0000\n",
      "Epoch 4/20\n",
      "4500/4500 [==============================] - 151s 34ms/step - loss: 2.0866e-09 - accuracy: 1.0000 - val_loss: 3.7993e-13 - val_accuracy: 1.0000\n",
      "Epoch 5/20\n",
      "4500/4500 [==============================] - 150s 33ms/step - loss: 3.4939e-10 - accuracy: 1.0000 - val_loss: 6.6759e-14 - val_accuracy: 1.0000\n",
      "Epoch 6/20\n",
      "4500/4500 [==============================] - 151s 34ms/step - loss: 5.0172e-10 - accuracy: 1.0000 - val_loss: 4.8403e-15 - val_accuracy: 1.0000\n",
      "Epoch 7/20\n",
      "4500/4500 [==============================] - 153s 34ms/step - loss: 5.7984e-11 - accuracy: 1.0000 - val_loss: 2.5536e-15 - val_accuracy: 1.0000\n",
      "Epoch 8/20\n",
      "4500/4500 [==============================] - 149s 33ms/step - loss: 3.7877e-11 - accuracy: 1.0000 - val_loss: 1.7246e-15 - val_accuracy: 1.0000\n",
      "Epoch 9/20\n",
      "4500/4500 [==============================] - 155s 34ms/step - loss: 1.2259e-10 - accuracy: 1.0000 - val_loss: 5.3834e-16 - val_accuracy: 1.0000\n",
      "Epoch 10/20\n",
      "4500/4500 [==============================] - 924s 205ms/step - loss: 8.6657e-12 - accuracy: 1.0000 - val_loss: 5.0353e-16 - val_accuracy: 1.0000\n",
      "Epoch 11/20\n",
      "4500/4500 [==============================] - 147s 33ms/step - loss: 6.9306e-12 - accuracy: 1.0000 - val_loss: 4.8170e-16 - val_accuracy: 1.0000\n",
      "Epoch 12/20\n",
      "4500/4500 [==============================] - 148s 33ms/step - loss: 1.0653e-11 - accuracy: 1.0000 - val_loss: 4.3696e-16 - val_accuracy: 1.0000\n",
      "Epoch 13/20\n",
      "4500/4500 [==============================] - 197s 44ms/step - loss: 7.0556e-12 - accuracy: 1.0000 - val_loss: 4.1187e-16 - val_accuracy: 1.0000\n",
      "Epoch 14/20\n",
      "4500/4500 [==============================] - 214s 48ms/step - loss: 9.0085e-12 - accuracy: 1.0000 - val_loss: 3.8407e-16 - val_accuracy: 1.0000\n",
      "Epoch 15/20\n",
      "4500/4500 [==============================] - 210s 47ms/step - loss: 1.1291e-11 - accuracy: 1.0000 - val_loss: 3.3197e-16 - val_accuracy: 1.0000\n",
      "Epoch 16/20\n",
      "4500/4500 [==============================] - 193s 43ms/step - loss: 6.4763e-12 - accuracy: 1.0000 - val_loss: 3.1269e-16 - val_accuracy: 1.0000\n",
      "Epoch 17/20\n",
      "4500/4500 [==============================] - 147s 33ms/step - loss: 1.2181e-11 - accuracy: 1.0000 - val_loss: 2.7103e-16 - val_accuracy: 1.0000\n",
      "Epoch 18/20\n",
      "4500/4500 [==============================] - 142s 31ms/step - loss: 4.4208e-11 - accuracy: 1.0000 - val_loss: 1.7887e-16 - val_accuracy: 1.0000\n",
      "Epoch 19/20\n",
      "4500/4500 [==============================] - 152s 34ms/step - loss: 4.3165e-12 - accuracy: 1.0000 - val_loss: 1.7278e-16 - val_accuracy: 1.0000\n",
      "Epoch 20/20\n",
      "4500/4500 [==============================] - 150s 33ms/step - loss: 9.4016e-12 - accuracy: 1.0000 - val_loss: 1.5491e-16 - val_accuracy: 1.0000\n"
     ]
    }
   ],
   "source": [
    "model = create_model(VOCAB_SIZE, EMBEDDING_DIM, MAXLEN, EMBEDDINGS_MATRIX)\n",
    "\n",
    "history = model.fit(train_pad_trunc_seq, train_labels, epochs=20, validation_data=(val_pad_trunc_seq, val_labels))"
   ]
  },
  {
   "cell_type": "code",
   "execution_count": 48,
   "id": "be828e78-bf02-46b4-96dd-759234f32776",
   "metadata": {},
   "outputs": [
    {
     "data": {
      "image/png": "[encoded data removed]",
      "text/plain": [
       "<Figure size 640x480 with 1 Axes>"
      ]
     },
     "metadata": {},
     "output_type": "display_data"
    }
   ],
   "source": [
    "loss = history.history['loss']\n",
    "val_loss = history.history['val_loss']\n",
    "\n",
    "epochs = [*range(20)]\n",
    "\n",
    "plt.plot(epochs, loss, 'r')\n",
    "plt.plot(epochs, val_loss, 'b')\n",
    "plt.title('Training and validation loss')\n",
    "plt.xlabel(\"Epochs\")\n",
    "plt.ylabel(\"Loss\")\n",
    "plt.legend([\"Loss\", \"Validation Loss\"])\n",
    "plt.show()"
   ]
  }
 ],
 "metadata": {
  "kernelspec": {
   "display_name": "Python 3 (ipykernel)",
   "language": "python",
   "name": "python3"
  },
  "language_info": {
   "codemirror_mode": {
    "name": "ipython",
    "version": 3
   },
   "file_extension": ".py",
   "mimetype": "text/x-python",
   "name": "python",
   "nbconvert_exporter": "python",
   "pygments_lexer": "ipython3",
   "version": "3.10.8"
  }
 },
 "nbformat": 4,
 "nbformat_minor": 5
}
