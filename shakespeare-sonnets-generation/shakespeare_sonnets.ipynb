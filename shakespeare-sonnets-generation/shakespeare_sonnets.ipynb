{
 "cells": [
  {
   "cell_type": "code",
   "execution_count": 28,
   "id": "a28b0875-f7be-4214-b09d-f95efa2caf1e",
   "metadata": {},
   "outputs": [],
   "source": [
    "import numpy as np\n",
    "import tensorflow as tf\n",
    "import matplotlib.pyplot as plt\n",
    "from tensorflow.keras.models import Sequential\n",
    "from tensorflow.keras.utils import to_categorical\n",
    "from tensorflow.keras.preprocessing.text import Tokenizer\n",
    "from tensorflow.keras.preprocessing.sequence import pad_sequences\n",
    "from tensorflow.keras.layers import Embedding, LSTM, Dense, Bidirectional"
   ]
  },
  {
   "cell_type": "code",
   "execution_count": 29,
   "id": "d20d94df-5f58-4294-bdb8-0cfbc1ed59d8",
   "metadata": {},
   "outputs": [
    {
     "name": "stdout",
     "output_type": "stream",
     "text": [
      "There are 2140 lines of sonnets\n",
      "\n",
      "The first 5 lines look like this:\n",
      "\n",
      "from fairest creatures we desire increase,\n",
      "that thereby beauty's rose might never die,\n",
      "but as the riper should by time decease,\n",
      "his tender heir might bear his memory:\n",
      "but thou, contracted to thine own bright eyes,5\n"
     ]
    }
   ],
   "source": [
    "SONNETS_FILE = './sonnets.txt'\n",
    "\n",
    "with open('./sonnets.txt') as f:\n",
    "    data = f.read()\n",
    "\n",
    "corpus = data.lower().split(\"\\n\")\n",
    "\n",
    "print(f\"There are {len(corpus)} lines of sonnets\\n\")\n",
    "print(f\"The first 5 lines look like this:\\n\")\n",
    "for i in range(5):\n",
    "  print(corpus[i])"
   ]
  },
  {
   "cell_type": "code",
   "execution_count": 30,
   "id": "1c6f3e34-b9a1-43f2-b672-23c20ce467c8",
   "metadata": {},
   "outputs": [],
   "source": [
    "#removing numbers that got into the text when copying\n",
    "for j in range(len(corpus)):\n",
    "    corpus[j] = ''.join([i for i in corpus[j] if not i.isdigit()])"
   ]
  },
  {
   "cell_type": "code",
   "execution_count": 31,
   "id": "e23a6d43-46eb-4b50-bb6f-401ae8d792f7",
   "metadata": {},
   "outputs": [
    {
     "name": "stdout",
     "output_type": "stream",
     "text": [
      "from fairest creatures we desire increase,\n",
      "that thereby beauty's rose might never die,\n",
      "but as the riper should by time decease,\n",
      "his tender heir might bear his memory:\n",
      "but thou, contracted to thine own bright eyes,\n"
     ]
    }
   ],
   "source": [
    "for i in range(5):\n",
    "  print(corpus[i])"
   ]
  },
  {
   "cell_type": "code",
   "execution_count": 32,
   "id": "85b880c1-2547-4ce4-b1d5-e25aa038ac40",
   "metadata": {},
   "outputs": [],
   "source": [
    "#tokenizing the text\n",
    "tokenizer = Tokenizer()\n",
    "tokenizer.fit_on_texts(corpus)\n",
    "total_words = len(tokenizer.word_index) + 1"
   ]
  },
  {
   "cell_type": "code",
   "execution_count": 33,
   "id": "ce134423-32c6-4cf1-a13e-101efb50312b",
   "metadata": {},
   "outputs": [
    {
     "data": {
      "text/plain": [
       "'from fairest creatures we desire increase,'"
      ]
     },
     "execution_count": 33,
     "metadata": {},
     "output_type": "execute_result"
    }
   ],
   "source": [
    "corpus[0]"
   ]
  },
  {
   "cell_type": "code",
   "execution_count": 34,
   "id": "f454d665-3738-4e44-973b-9fa8260d7dc9",
   "metadata": {},
   "outputs": [
    {
     "data": {
      "text/plain": [
       "[[34, 416, 868, 164, 215, 513]]"
      ]
     },
     "execution_count": 34,
     "metadata": {},
     "output_type": "execute_result"
    }
   ],
   "source": [
    "tokenizer.texts_to_sequences([corpus[0]])"
   ]
  },
  {
   "cell_type": "code",
   "execution_count": 35,
   "id": "3c52760b-1e05-4d8f-9a15-0571515aac6b",
   "metadata": {},
   "outputs": [],
   "source": [
    "#generating n_grams sequence\n",
    "def n_gram_seqs(corpus, tokenizer):\n",
    "    input_sequences = []\n",
    "\n",
    "    for line in corpus:\n",
    "      sequence = tokenizer.texts_to_sequences([line])[0]\n",
    "\n",
    "      for i in range(1, len(sequence)):\n",
    "        n_grid = sequence[:i+1]\n",
    "        input_sequences.append(n_grid)\n",
    "\n",
    "    return input_sequences"
   ]
  },
  {
   "cell_type": "code",
   "execution_count": 36,
   "id": "b2e92ab6-7ced-4eac-8bd8-6cdb63e5ca72",
   "metadata": {},
   "outputs": [
    {
     "name": "stdout",
     "output_type": "stream",
     "text": [
      "n_gram sequences for first example look like this:\n",
      "\n"
     ]
    },
    {
     "data": {
      "text/plain": [
       "[[34, 416],\n",
       " [34, 416, 868],\n",
       " [34, 416, 868, 164],\n",
       " [34, 416, 868, 164, 215],\n",
       " [34, 416, 868, 164, 215, 513]]"
      ]
     },
     "execution_count": 36,
     "metadata": {},
     "output_type": "execute_result"
    }
   ],
   "source": [
    "first_example_sequence = n_gram_seqs([corpus[0]], tokenizer)\n",
    "\n",
    "print(\"n_gram sequences for first example look like this:\\n\")\n",
    "first_example_sequence"
   ]
  },
  {
   "cell_type": "code",
   "execution_count": 37,
   "id": "d2954d1e-36d7-466c-8955-41f4072d957b",
   "metadata": {},
   "outputs": [
    {
     "name": "stdout",
     "output_type": "stream",
     "text": [
      "n_grams of input_sequences have length: 15353\n",
      "maximum length of sequences is: 11\n"
     ]
    }
   ],
   "source": [
    "# applying the n_gram_seqs transformation to the whole corpus\n",
    "input_sequences = n_gram_seqs(corpus, tokenizer)\n",
    "\n",
    "max_sequence_len = max([len(x) for x in input_sequences])\n",
    "\n",
    "print(f\"n_grams of input_sequences have length: {len(input_sequences)}\")\n",
    "print(f\"maximum length of sequences is: {max_sequence_len}\")"
   ]
  },
  {
   "cell_type": "code",
   "execution_count": 38,
   "id": "9b2cee32-d450-4b4f-bbe4-6806f1bd3731",
   "metadata": {},
   "outputs": [],
   "source": [
    "#adding pre-padding to the sequences\n",
    "def pad_seqs(input_sequences, maxlen):\n",
    "    \n",
    "    padded_sequences = pad_sequences(input_sequences, maxlen = maxlen)\n",
    "    return padded_sequences"
   ]
  },
  {
   "cell_type": "code",
   "execution_count": 39,
   "id": "00278f9d-2bcf-4516-9244-8bf51ea35a7d",
   "metadata": {},
   "outputs": [
    {
     "data": {
      "text/plain": [
       "array([[  0,   0,   0,   0,  34, 416],\n",
       "       [  0,   0,   0,  34, 416, 868],\n",
       "       [  0,   0,  34, 416, 868, 164],\n",
       "       [  0,  34, 416, 868, 164, 215],\n",
       "       [ 34, 416, 868, 164, 215, 513]])"
      ]
     },
     "execution_count": 39,
     "metadata": {},
     "output_type": "execute_result"
    }
   ],
   "source": [
    "first_padded_seq = pad_seqs(first_example_sequence, max([len(x) for x in first_example_sequence]))\n",
    "first_padded_seq"
   ]
  },
  {
   "cell_type": "code",
   "execution_count": 40,
   "id": "aabde663-62fc-41dc-86a5-f59bde493a90",
   "metadata": {},
   "outputs": [
    {
     "name": "stdout",
     "output_type": "stream",
     "text": [
      "padded corpus has shape: (15353, 11)\n"
     ]
    }
   ],
   "source": [
    "input_sequences = pad_seqs(input_sequences, max_sequence_len)\n",
    "\n",
    "print(f\"padded corpus has shape: {input_sequences.shape}\")"
   ]
  },
  {
   "cell_type": "code",
   "execution_count": 41,
   "id": "d1df11ee-f745-4411-966e-919e49633f67",
   "metadata": {},
   "outputs": [],
   "source": [
    "#spliting the data where labels are the last words of the sequences\n",
    "def features_and_labels(input_sequences, total_words):\n",
    "    \n",
    "    features = input_sequences[:, :-1]\n",
    "    labels = input_sequences[:, -1]\n",
    "    one_hot_labels = to_categorical(labels, num_classes=total_words)\n",
    "\n",
    "    return features, one_hot_labels"
   ]
  },
  {
   "cell_type": "code",
   "execution_count": 42,
   "id": "d0dcf792-ac70-487c-ba17-eb951c375288",
   "metadata": {},
   "outputs": [],
   "source": [
    "features, labels = features_and_labels(input_sequences, total_words)"
   ]
  },
  {
   "cell_type": "markdown",
   "id": "93e7c005-884a-4d8d-85bc-9cc85fdb7d24",
   "metadata": {
    "tags": []
   },
   "source": [
    "## Model"
   ]
  },
  {
   "cell_type": "code",
   "execution_count": 16,
   "id": "233b0fed-12ea-421e-b9a1-8328e52be9d6",
   "metadata": {},
   "outputs": [],
   "source": [
    "class myCallback(tf.keras.callbacks.Callback):\n",
    "  def on_epoch_end(self, epoch, logs={}):\n",
    "    if(logs.get('accuracy')>0.84):\n",
    "      print(\"\\nReached 84% accuracy\")\n",
    "      self.model.stop_training = True"
   ]
  },
  {
   "cell_type": "code",
   "execution_count": 17,
   "id": "6791e408-6a3a-4939-ae3c-655fdc4904a6",
   "metadata": {},
   "outputs": [],
   "source": [
    "def create_model(total_words, max_sequence_len):\n",
    "    \n",
    "    model = Sequential()\n",
    "    model.add(Embedding(total_words, 100, input_length=max_sequence_len -1))\n",
    "    model.add(Bidirectional(LSTM(150)))\n",
    "    model.add(Dense(total_words, activation='softmax'))\n",
    "\n",
    "    model.compile(loss='categorical_crossentropy',\n",
    "                  optimizer=tf.keras.optimizers.Adam(learning_rate=0.001),\n",
    "                  metrics=['accuracy'])\n",
    "    return model"
   ]
  },
  {
   "cell_type": "code",
   "execution_count": 20,
   "id": "f3ae95f3-5665-4e32-a1dc-e0eee30c90de",
   "metadata": {},
   "outputs": [
    {
     "name": "stdout",
     "output_type": "stream",
     "text": [
      "Epoch 1/50\n",
      "480/480 [==============================] - 17s 26ms/step - loss: 6.8717 - accuracy: 0.0234\n",
      "Epoch 2/50\n",
      "480/480 [==============================] - 13s 27ms/step - loss: 6.4112 - accuracy: 0.0338\n",
      "Epoch 3/50\n",
      "480/480 [==============================] - 13s 27ms/step - loss: 6.1604 - accuracy: 0.0413\n",
      "Epoch 4/50\n",
      "480/480 [==============================] - 15s 32ms/step - loss: 5.8957 - accuracy: 0.0533\n",
      "Epoch 5/50\n",
      "480/480 [==============================] - 15s 31ms/step - loss: 5.5857 - accuracy: 0.0640\n",
      "Epoch 6/50\n",
      "480/480 [==============================] - 15s 31ms/step - loss: 5.2384 - accuracy: 0.0757\n",
      "Epoch 7/50\n",
      "480/480 [==============================] - 15s 32ms/step - loss: 4.8492 - accuracy: 0.0967\n",
      "Epoch 8/50\n",
      "480/480 [==============================] - 16s 34ms/step - loss: 4.4368 - accuracy: 0.1267\n",
      "Epoch 9/50\n",
      "480/480 [==============================] - 16s 33ms/step - loss: 4.0066 - accuracy: 0.1828\n",
      "Epoch 10/50\n",
      "480/480 [==============================] - 14s 30ms/step - loss: 3.6001 - accuracy: 0.2504\n",
      "Epoch 11/50\n",
      "480/480 [==============================] - 15s 31ms/step - loss: 3.2193 - accuracy: 0.3232\n",
      "Epoch 12/50\n",
      "480/480 [==============================] - 15s 31ms/step - loss: 2.8865 - accuracy: 0.3876\n",
      "Epoch 13/50\n",
      "480/480 [==============================] - 14s 29ms/step - loss: 2.5898 - accuracy: 0.4492\n",
      "Epoch 14/50\n",
      "480/480 [==============================] - 15s 31ms/step - loss: 2.3328 - accuracy: 0.5028\n",
      "Epoch 15/50\n",
      "480/480 [==============================] - 15s 30ms/step - loss: 2.1022 - accuracy: 0.5561\n",
      "Epoch 16/50\n",
      "480/480 [==============================] - 16s 32ms/step - loss: 1.9042 - accuracy: 0.6016\n",
      "Epoch 17/50\n",
      "480/480 [==============================] - 15s 31ms/step - loss: 1.7304 - accuracy: 0.6379\n",
      "Epoch 18/50\n",
      "480/480 [==============================] - 15s 30ms/step - loss: 1.5716 - accuracy: 0.6766\n",
      "Epoch 19/50\n",
      "480/480 [==============================] - 14s 30ms/step - loss: 1.4299 - accuracy: 0.7051\n",
      "Epoch 20/50\n",
      "480/480 [==============================] - 15s 31ms/step - loss: 1.3115 - accuracy: 0.7287\n",
      "Epoch 21/50\n",
      "480/480 [==============================] - 16s 33ms/step - loss: 1.1942 - accuracy: 0.7534\n",
      "Epoch 22/50\n",
      "480/480 [==============================] - 22s 47ms/step - loss: 1.1015 - accuracy: 0.7741\n",
      "Epoch 23/50\n",
      "480/480 [==============================] - 20s 41ms/step - loss: 1.0187 - accuracy: 0.7925\n",
      "Epoch 24/50\n",
      "480/480 [==============================] - 20s 41ms/step - loss: 0.9537 - accuracy: 0.7998\n",
      "Epoch 25/50\n",
      "480/480 [==============================] - 18s 37ms/step - loss: 0.8892 - accuracy: 0.8142\n",
      "Epoch 26/50\n",
      "480/480 [==============================] - 19s 40ms/step - loss: 0.8396 - accuracy: 0.8195\n",
      "Epoch 27/50\n",
      "480/480 [==============================] - 17s 36ms/step - loss: 0.7991 - accuracy: 0.8266\n",
      "Epoch 28/50\n",
      "480/480 [==============================] - 17s 35ms/step - loss: 0.7625 - accuracy: 0.8314\n",
      "Epoch 29/50\n",
      "480/480 [==============================] - 16s 32ms/step - loss: 0.7268 - accuracy: 0.8383\n",
      "Epoch 30/50\n",
      "480/480 [==============================] - 18s 38ms/step - loss: 0.7119 - accuracy: 0.8397\n",
      "Epoch 31/50\n",
      "480/480 [==============================] - ETA: 0s - loss: 0.6870 - accuracy: 0.8413\n",
      "Reached 84% accuracy\n",
      "480/480 [==============================] - 18s 38ms/step - loss: 0.6870 - accuracy: 0.8413\n"
     ]
    }
   ],
   "source": [
    "model = create_model(total_words, max_sequence_len)\n",
    "\n",
    "# Train the model\n",
    "callbacks = myCallback()\n",
    "history = model.fit(features, labels, callbacks=callbacks, epochs=50, verbose=1)"
   ]
  },
  {
   "cell_type": "code",
   "execution_count": 21,
   "id": "6fed38b7-66a5-4e3e-9939-1d0301a0a8fd",
   "metadata": {},
   "outputs": [
    {
     "data": {
      "image/png": "[encoded data removed]",
      "text/plain": [
       "<Figure size 640x480 with 1 Axes>"
      ]
     },
     "metadata": {},
     "output_type": "display_data"
    },
    {
     "data": {
      "image/png": "[encoded data removed]",
      "text/plain": [
       "<Figure size 640x480 with 1 Axes>"
      ]
     },
     "metadata": {},
     "output_type": "display_data"
    }
   ],
   "source": [
    "acc = history.history['accuracy']\n",
    "loss = history.history['loss']\n",
    "\n",
    "epochs = range(len(acc))\n",
    "\n",
    "plt.plot(epochs, acc, 'b', label='Training accuracy')\n",
    "plt.title('Training accuracy')\n",
    "\n",
    "plt.figure()\n",
    "\n",
    "plt.plot(epochs, loss, 'b', label='Training Loss')\n",
    "plt.title('Training loss')\n",
    "plt.legend()\n",
    "\n",
    "plt.show()"
   ]
  },
  {
   "cell_type": "code",
   "execution_count": 43,
   "id": "b9f0a8cd-e208-45d7-a26d-ee04613a46c1",
   "metadata": {},
   "outputs": [
    {
     "name": "stdout",
     "output_type": "stream",
     "text": [
      "One day I wrote her name upon the  spring and night of brow pride lie so cross you\n"
     ]
    }
   ],
   "source": [
    "#trying it out on an example\n",
    "seed_text = \"One day I wrote her name upon the \"\n",
    "next_words = 10\n",
    "\n",
    "for _ in range(next_words):\n",
    "    token_list = tokenizer.texts_to_sequences([seed_text])[0]\n",
    "    token_list = pad_sequences([token_list], maxlen=max_sequence_len-1, padding='pre')\n",
    "    predicted = model.predict(token_list, verbose=0)\n",
    "    predicted = np.argmax(predicted, axis=-1).item()\n",
    "    output_word = tokenizer.index_word[predicted]\n",
    "    seed_text += \" \" + output_word\n",
    "\n",
    "print(seed_text)"
   ]
  }
 ],
 "metadata": {
  "kernelspec": {
   "display_name": "Python 3 (ipykernel)",
   "language": "python",
   "name": "python3"
  },
  "language_info": {
   "codemirror_mode": {
    "name": "ipython",
    "version": 3
   },
   "file_extension": ".py",
   "mimetype": "text/x-python",
   "name": "python",
   "nbconvert_exporter": "python",
   "pygments_lexer": "ipython3",
   "version": "3.10.8"
  }
 },
 "nbformat": 4,
 "nbformat_minor": 5
}
